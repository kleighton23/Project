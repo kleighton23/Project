{
 "cells": [
  {
   "cell_type": "code",
   "execution_count": 25,
   "id": "ce657d80-b927-4cca-8391-85bb76b27d76",
   "metadata": {},
   "outputs": [
    {
     "name": "stdout",
     "output_type": "stream",
     "text": [
      "    id  CustomerId                Surname  CreditScore   Age  Tenure  \\\n",
      "0  0.0  15674932.0   O,k{wudilic_-huk>wu_        668.0  33.0     3.0   \n",
      "1  1.0  15749177.0  O{kwudi\"li#%%'oli=-sa        627.0  33.0     1.0   \n",
      "2  2.0  15694510.0                  Hsueh        678.0  40.0    10.0   \n",
      "3  3.0  15741417.0            Kao,]?>?%]@        581.0  34.0     2.0   \n",
      "4  4.0  15766172.0          Ch-i]emen'-am        716.0  33.0     5.0   \n",
      "\n",
      "     Balance  NumOfProducts  HasCrCard  IsActiveMember EstimatedSalary  \\\n",
      "0       0.00            2.0        1.0             0.0       181449.97   \n",
      "1       0.00            2.0        1.0             1.0         49503.5   \n",
      "2       0.00            2.0        1.0             0.0       184866.69   \n",
      "3  148882.54            1.0        1.0             1.0        84560.88   \n",
      "4       0.00            2.0        1.0             1.0        15068.83   \n",
      "\n",
      "   Rating  Exited                        Geography:str,Gender:str  \n",
      "0      -3       0  {'Geography': 'Paris-France','Gender': 'Male'}  \n",
      "1       0       0  {'Geography': 'Paris-France','Gender': 'Male'}  \n",
      "2       1       0  {'Geography': 'Paris-France','Gender': 'Male'}  \n",
      "3      -4       0  {'Geography': 'Paris-France','Gender': 'Male'}  \n",
      "4      -1       0  {'Geography': 'Madrid-Spain','Gender': 'Male'}  \n"
     ]
    }
   ],
   "source": [
    "import pandas as pd\n",
    "import numpy as np \n",
    "import ast\n",
    "\n",
    "bank_churn = pd.read_csv('/Users/kyleleighton/Documents/Bank_churn.csv')\n",
    "print(bank_churn.head())"
   ]
  },
  {
   "cell_type": "code",
   "execution_count": 26,
   "id": "13ca22e1-74f4-4d70-ab60-fd3e404b7051",
   "metadata": {},
   "outputs": [
    {
     "name": "stdout",
     "output_type": "stream",
     "text": [
      "    id  CustomerId                Surname  CreditScore   Age  Tenure  \\\n",
      "0  0.0  15674932.0   O,k{wudilic_-huk>wu_        668.0  33.0     3.0   \n",
      "1  1.0  15749177.0  O{kwudi\"li#%%'oli=-sa        627.0  33.0     1.0   \n",
      "2  2.0  15694510.0                  Hsueh        678.0  40.0    10.0   \n",
      "3  3.0  15741417.0            Kao,]?>?%]@        581.0  34.0     2.0   \n",
      "4  4.0  15766172.0          Ch-i]emen'-am        716.0  33.0     5.0   \n",
      "\n",
      "     Balance  NumOfProducts  HasCrCard  IsActiveMember EstimatedSalary  \\\n",
      "0       0.00            2.0        1.0             0.0       181449.97   \n",
      "1       0.00            2.0        1.0             1.0         49503.5   \n",
      "2       0.00            2.0        1.0             0.0       184866.69   \n",
      "3  148882.54            1.0        1.0             1.0        84560.88   \n",
      "4       0.00            2.0        1.0             1.0        15068.83   \n",
      "\n",
      "   Rating  Exited     Geography Gender  \n",
      "0      -3       0  Paris-France   Male  \n",
      "1       0       0  Paris-France   Male  \n",
      "2       1       0  Paris-France   Male  \n",
      "3      -4       0  Paris-France   Male  \n",
      "4      -1       0  Madrid-Spain   Male  \n"
     ]
    }
   ],
   "source": [
    "#separating column 'Geograph:str,Gender:str' into 2 columns, 'Geography' and 'Gender'\n",
    "bank_churn['GeographyGender'] = bank_churn['Geography:str,Gender:str'].apply(ast.literal_eval)\n",
    "bank_churn[['Geography', 'Gender']] = bank_churn['GeographyGender'].apply(pd.Series)\n",
    "bank_churn = bank_churn.drop(['GeographyGender','Geography:str,Gender:str'], axis=1)\n",
    "print(bank_churn.head())"
   ]
  },
  {
   "cell_type": "raw",
   "id": "864a12d1-87c9-4ef7-9416-45c11912fab9",
   "metadata": {},
   "source": []
  },
  {
   "cell_type": "code",
   "execution_count": 27,
   "id": "2188254d-0d3e-4b9d-b11e-c4e1202bd439",
   "metadata": {},
   "outputs": [
    {
     "name": "stdout",
     "output_type": "stream",
     "text": [
      "    id  CustomerId         Surname  CreditScore   Age  Tenure    Balance  \\\n",
      "0  0.0  15674932.0  Okwudilichukwu        668.0  33.0     3.0       0.00   \n",
      "1  1.0  15749177.0   Okwudiliolisa        627.0  33.0     1.0       0.00   \n",
      "2  2.0  15694510.0           Hsueh        678.0  40.0    10.0       0.00   \n",
      "3  3.0  15741417.0             Kao        581.0  34.0     2.0  148882.54   \n",
      "4  4.0  15766172.0       Chiemenam        716.0  33.0     5.0       0.00   \n",
      "\n",
      "   NumOfProducts  HasCrCard  IsActiveMember  EstimatedSalary Rating  Exited  \\\n",
      "0            2.0        1.0             0.0        181449.97      3       0   \n",
      "1            2.0        1.0             1.0         49503.50      0       0   \n",
      "2            2.0        1.0             0.0        184866.69      1       0   \n",
      "3            1.0        1.0             1.0         84560.88      4       0   \n",
      "4            2.0        1.0             1.0         15068.83      1       0   \n",
      "\n",
      "      Geography Gender  \n",
      "0  Paris-France   Male  \n",
      "1  Paris-France   Male  \n",
      "2  Paris-France   Male  \n",
      "3  Paris-France   Male  \n",
      "4  Madrid-Spain   Male  \n"
     ]
    }
   ],
   "source": [
    "#removing 'k' from instances where estimated salary  includes values like '50k'\n",
    "bank_churn['EstimatedSalary'] = bank_churn['EstimatedSalary'].astype(str).str.replace('k', '', regex = False).astype(float)\n",
    "#removing anything that is not a letter from surnames\n",
    "bank_churn['Surname'] = bank_churn['Surname'].astype(str).str.replace(r'[^A-Z, a-z]', '', regex = True).str.replace(',', '').dropna().astype(str)\n",
    "#removing instances in age where it includes values like '35 years old' \n",
    "bank_churn['Age'] = pd.to_numeric(bank_churn['Age'].astype(str).str.replace(r'[^0-9.]', '', regex = True), errors = 'coerce')\n",
    "#stripping extra zeros on the end of ages\n",
    "def clean_age(x):\n",
    "    if pd.isnull(x) or x <= 120:\n",
    "        return int(x) if not pd.isnull(x) else x\n",
    "    # Reduce number until it’s <= 120\n",
    "    while x > 120:\n",
    "        x = x // 10\n",
    "    return int(x)\n",
    "\n",
    "bank_churn['Age'] = bank_churn['Age'].apply(clean_age)\n",
    "#removing 'k' from instances where balance includes values like '50k'\n",
    "bank_churn['Balance'] = bank_churn['Balance'].astype(str).str.replace('k', '', regex = False).astype(float)\n",
    "#convert 'Tenure' column to numeric; invalid values will become NaN instead of raising an error\n",
    "bank_churn['Tenure'] = pd.to_numeric(bank_churn['Tenure'], errors='coerce')\n",
    "# standardize 'Rating' by converting all values to non-negative (absolute values) \n",
    "bank_churn['Rating'] = bank_churn['Rating'].astype(int).abs()\n",
    "# and cast to an ordered categorical type (0–5) for consistent analysis and modeling\n",
    "bank_churn['Rating'] = pd.Categorical(bank_churn['Rating'], categories=[0, 1, 2, 3, 4, 5], ordered=True)\n",
    "#replace all empty strings with NaN values\n",
    "bank_churn = bank_churn.replace('', np.nan, regex = False)\n",
    "#drop all rows with NaN values from bank_churn\n",
    "bank_churn = bank_churn.dropna()\n",
    "print(bank_churn.head())"
   ]
  },
  {
   "cell_type": "code",
   "execution_count": 28,
   "id": "d8cdc05a-41da-434b-a9c9-4c841b730350",
   "metadata": {},
   "outputs": [
    {
     "name": "stdout",
     "output_type": "stream",
     "text": [
      "['Paris-France' 'Madrid-Spain' 'Berlin-Germany']\n"
     ]
    }
   ],
   "source": [
    "#correcting Germany name and removing rows where value is 'nan' string\n",
    "bank_churn['Geography'] = bank_churn['Geography'].replace('Berlin-Gernay', 'Berlin-Germany')\n",
    "bank_churn = bank_churn[~bank_churn.isin(['nan']).any(axis=1)]\n",
    "print(bank_churn['Geography'].unique())"
   ]
  },
  {
   "cell_type": "code",
   "execution_count": 29,
   "id": "94411f08-95c4-4863-846a-1eea5f2253dd",
   "metadata": {},
   "outputs": [
    {
     "data": {
      "text/plain": [
       "id                          int64\n",
       "CustomerId                  int64\n",
       "Surname                    object\n",
       "CreditScore                 int64\n",
       "Age                         int64\n",
       "Tenure                      int64\n",
       "Balance                   float64\n",
       "NumOfProducts               int64\n",
       "HasCrCard                    bool\n",
       "IsActiveMember               bool\n",
       "EstimatedSalary           float64\n",
       "Rating                   category\n",
       "Exited                       bool\n",
       "Geography          string[python]\n",
       "Gender             string[python]\n",
       "dtype: object"
      ]
     },
     "execution_count": 29,
     "metadata": {},
     "output_type": "execute_result"
    }
   ],
   "source": [
    "#setting columns to the appropriate types\n",
    "bank_churn['Tenure'] = bank_churn['Tenure'].astype(int)\n",
    "bank_churn['Age'] = bank_churn['Age'].astype(int)\n",
    "bank_churn['id'] = bank_churn['id'].astype(int)\n",
    "bank_churn['CustomerId'] = bank_churn['CustomerId'].astype(int)\n",
    "bank_churn['CreditScore'] = bank_churn['CreditScore'].astype(int)\n",
    "bank_churn['IsActiveMember'] = bank_churn['IsActiveMember'].astype(bool)\n",
    "bank_churn['Exited'] = bank_churn['Exited'].astype(bool)\n",
    "bank_churn['NumOfProducts'] = bank_churn['NumOfProducts'].astype(int)\n",
    "bank_churn['HasCrCard'] = bank_churn['HasCrCard'].astype(bool)\n",
    "bank_churn['Geography'] = bank_churn['Geography'].astype('string')\n",
    "bank_churn['Gender'] = bank_churn['Gender'].astype('string')\n",
    "bank_churn.dtypes"
   ]
  },
  {
   "cell_type": "code",
   "execution_count": 30,
   "id": "adc95a93-e25f-4b3c-b58a-99f13e5ca780",
   "metadata": {},
   "outputs": [],
   "source": [
    "# Save the cleaned DataFrame to a CSV file\n",
    "csv_path = ('/Users/kyleleighton/Documents/Bank_churn_cleaned.csv')\n",
    "bank_churn.to_csv(csv_path, index=False)\n",
    "bank_churn_cleaned = pd.read_csv('/Users/kyleleighton/Documents/Bank_churn_cleaned.csv')"
   ]
  }
 ],
 "metadata": {
  "kernelspec": {
   "display_name": "Python [conda env:base] *",
   "language": "python",
   "name": "conda-base-py"
  },
  "language_info": {
   "codemirror_mode": {
    "name": "ipython",
    "version": 3
   },
   "file_extension": ".py",
   "mimetype": "text/x-python",
   "name": "python",
   "nbconvert_exporter": "python",
   "pygments_lexer": "ipython3",
   "version": "3.13.5"
  }
 },
 "nbformat": 4,
 "nbformat_minor": 5
}
