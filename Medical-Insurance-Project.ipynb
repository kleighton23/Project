{
 "cells": [
  {
   "cell_type": "markdown",
   "metadata": {},
   "source": [
    "# U.S. Medical Insurance Costs"
   ]
  },
  {
   "cell_type": "code",
   "execution_count": 6,
   "metadata": {},
   "outputs": [],
   "source": [
    "import csv\n",
    "# Creating variable to store the insurance_csv data as a dictionary\n",
    "data = []\n",
    "with open(\"insurance.csv\") as insurance_csv:\n",
    "    reader = csv.DictReader(insurance_csv)\n",
    "# Adding the csv data to 'data' variable\n",
    "    for row in reader:\n",
    "        data.append(row)\n"
   ]
  },
  {
   "cell_type": "code",
   "execution_count": 18,
   "metadata": {},
   "outputs": [
    {
     "name": "stdout",
     "output_type": "stream",
     "text": [
      "The average cost of insurance is 13270.42 dollars.\n"
     ]
    }
   ],
   "source": [
    "# Finding average insurance cost \n",
    "total_records = 0\n",
    "total_cost = 0.0\n",
    "\n",
    "for record in data:\n",
    "    total_records += 1\n",
    "    total_cost += float(record[\"charges\"])\n",
    "    \n",
    "average_cost = round(total_cost / total_records , 2)\n",
    "\n",
    "print(f'The average cost of insurance is', str(average_cost), \"dollars.\")\n"
   ]
  },
  {
   "cell_type": "code",
   "execution_count": 34,
   "metadata": {},
   "outputs": [],
   "source": [
    "# Creating a function for finding average insurance by group\n",
    "def average_by_group(data, group_col, target_col=\"charges\"):\n",
    "    totals = {}\n",
    "    counts = {}\n",
    "    \n",
    "    for record in data:\n",
    "        group = record[group_col]\n",
    "        value = float(record[target_col])\n",
    "        \n",
    "        totals[group] = totals.get(group, 0) + value\n",
    "        counts[group] = counts.get(group, 0) + 1\n",
    "    \n",
    "    return {group: round(totals[group] / counts[group], 2) for group in totals}\n",
    "    \n"
   ]
  },
  {
   "cell_type": "code",
   "execution_count": 39,
   "metadata": {},
   "outputs": [
    {
     "name": "stdout",
     "output_type": "stream",
     "text": [
      "Here is the average insurance cost for smokers {'yes': 32050.23, 'no': 8434.27}\n",
      "Here is the average insurance cost for children {'0': 12365.98, '1': 12731.17, '3': 15355.32, '2': 15073.56, '5': 8786.04, '4': 13850.66}\n",
      "Here is the average insurance cost for age {'18': 7086.22, '19': 9747.91, '20': 10159.7, '21': 4730.46, '22': 10012.93, '23': 12419.82, '24': 10648.02, '25': 9838.37, '26': 6133.83, '27': 12184.7, '28': 9069.19, '29': 10430.16, '30': 12719.11, '31': 10196.98, '32': 9220.3, '33': 12351.53, '34': 11613.53, '35': 11307.18, '36': 12204.48, '37': 18019.91, '38': 8102.73, '39': 11778.24, '40': 11772.25, '41': 9653.75, '42': 13061.04, '43': 19267.28, '44': 15859.4, '45': 14830.2, '46': 14342.59, '47': 17654.0, '48': 14632.5, '49': 12696.01, '50': 15663.0, '51': 15682.26, '52': 18256.27, '53': 16020.93, '54': 18758.55, '55': 16164.55, '56': 15025.52, '57': 16447.19, '58': 13878.93, '59': 18895.87, '60': 21979.42, '61': 22024.46, '62': 19163.86, '63': 19885.0, '64': 23275.53}\n",
      "Here is the average insurance cost for sex {'female': 12569.58, 'male': 13956.75}\n"
     ]
    }
   ],
   "source": [
    "# Averages by group variables\n",
    "average_smokers = average_by_group(data, \"smoker\")\n",
    "average_children = average_by_group(data, \"children\")\n",
    "average_sex = average_by_group(data, \"sex\")\n",
    "average_age = average_by_group(data, \"age\")\n",
    "\n",
    "# Sorting the average cost by age from youngest to oldest\n",
    "sorted_by_age = dict(sorted(average_age.items(), key=lambda x: x[0]))\n",
    "\n",
    "# Function for print statements for averages of each groups\n",
    "def group_print_statement(group, name):\n",
    "    statement = print(f\"Here is the average insurance cost for {name} {group}\")\n",
    "    return statement\n",
    "\n",
    "group_print_statement(average_smokers, \"smokers\")\n",
    "group_print_statement(average_children, \"children\")\n",
    "group_print_statement(sorted_by_age, \"age\")\n",
    "group_print_statement(average_sex, \"sex\")"
   ]
  },
  {
   "cell_type": "code",
   "execution_count": 42,
   "metadata": {},
   "outputs": [
    {
     "name": "stdout",
     "output_type": "stream",
     "text": [
      "Based on the data provided, it appears smoking plays the largest role in increasing the costs of insurance.\n",
      "The next biggest factor seems to be age. Other than a few fluctuations, the trend shows that as age increases, the cost increases too.\n",
      "Number of children also affects the cost, with the highest increases in the 2–4 children range.\n",
      "Lastly, males’ average cost is slightly higher than females.\n"
     ]
    }
   ],
   "source": [
    "print(\n",
    "    \"Based on the data provided, it appears smoking plays the largest role in increasing the costs of insurance.\\n\"\n",
    "    \"The next biggest factor seems to be age. Other than a few fluctuations, the trend shows that as age increases, the cost increases too.\\n\"\n",
    "    \"Number of children also affects the cost, with the highest increases in the 2–4 children range.\\n\"\n",
    "    \"Lastly, males’ average cost is slightly higher than females.\"\n",
    ")\n"
   ]
  },
  {
   "cell_type": "code",
   "execution_count": null,
   "metadata": {},
   "outputs": [],
   "source": []
  },
  {
   "cell_type": "code",
   "execution_count": null,
   "metadata": {},
   "outputs": [],
   "source": []
  }
 ],
 "metadata": {
  "kernelspec": {
   "display_name": "Python [conda env:base] *",
   "language": "python",
   "name": "conda-base-py"
  },
  "language_info": {
   "codemirror_mode": {
    "name": "ipython",
    "version": 3
   },
   "file_extension": ".py",
   "mimetype": "text/x-python",
   "name": "python",
   "nbconvert_exporter": "python",
   "pygments_lexer": "ipython3",
   "version": "3.13.5"
  }
 },
 "nbformat": 4,
 "nbformat_minor": 4
}
